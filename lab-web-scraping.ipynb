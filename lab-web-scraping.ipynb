{
  "cells": [
    {
      "cell_type": "markdown",
      "id": "7e7a1ab8-2599-417d-9a65-25ef07f3a786",
      "metadata": {
        "id": "7e7a1ab8-2599-417d-9a65-25ef07f3a786"
      },
      "source": [
        "# Lab | Web Scraping"
      ]
    },
    {
      "cell_type": "markdown",
      "id": "ce8882fc-4815-4567-92fa-b4816358ba7d",
      "metadata": {
        "id": "ce8882fc-4815-4567-92fa-b4816358ba7d"
      },
      "source": [
        "Welcome to the \"Books to Scrape\" Web Scraping Adventure Lab!\n",
        "\n",
        "**Objective**\n",
        "\n",
        "In this lab, we will embark on a mission to unearth valuable insights from the data available on Books to Scrape, an online platform showcasing a wide variety of books. As data analyst, you have been tasked with scraping a specific subset of book data from Books to Scrape to assist publishing companies in understanding the landscape of highly-rated books across different genres. Your insights will help shape future book marketing strategies and publishing decisions.\n",
        "\n",
        "**Background**\n",
        "\n",
        "In a world where data has become the new currency, businesses are leveraging big data to make informed decisions that drive success and profitability. The publishing industry, much like others, utilizes data analytics to understand market trends, reader preferences, and the performance of books based on factors such as genre, author, and ratings. Books to Scrape serves as a rich source of such data, offering detailed information about a diverse range of books, making it an ideal platform for extracting insights to aid in informed decision-making within the literary world.\n",
        "\n",
        "**Task**\n",
        "\n",
        "Your task is to create a Python script using BeautifulSoup and pandas to scrape Books to Scrape book data, focusing on book ratings and genres. The script should be able to filter books with ratings above a certain threshold and in specific genres. Additionally, the script should structure the scraped data in a tabular format using pandas for further analysis.\n",
        "\n",
        "**Expected Outcome**\n",
        "\n",
        "A function named `scrape_books` that takes two parameters: `min_rating` and `max_price`. The function should scrape book data from the \"Books to Scrape\" website and return a `pandas` DataFrame with the following columns:\n",
        "\n",
        "**Expected Outcome**\n",
        "\n",
        "- A function named `scrape_books` that takes two parameters: `min_rating` and `max_price`.\n",
        "- The function should return a DataFrame with the following columns:\n",
        "  - **UPC**: The Universal Product Code (UPC) of the book.\n",
        "  - **Title**: The title of the book.\n",
        "  - **Price (£)**: The price of the book in pounds.\n",
        "  - **Rating**: The rating of the book (1-5 stars).\n",
        "  - **Genre**: The genre of the book.\n",
        "  - **Availability**: Whether the book is in stock or not.\n",
        "  - **Description**: A brief description or product description of the book (if available).\n",
        "  \n",
        "You will execute this script to scrape data for books with a minimum rating of `4.0 and above` and a maximum price of `£20`. \n",
        "\n",
        "Remember to experiment with different ratings and prices to ensure your code is versatile and can handle various searches effectively!\n",
        "\n",
        "**Resources**\n",
        "\n",
        "- [Beautiful Soup Documentation](https://www.crummy.com/software/BeautifulSoup/bs4/doc/)\n",
        "- [Pandas Documentation](https://pandas.pydata.org/pandas-docs/stable/index.html)\n",
        "- [Books to Scrape](https://books.toscrape.com/)\n"
      ]
    },
    {
      "cell_type": "markdown",
      "id": "3519921d-5890-445b-9a33-934ed8ee378c",
      "metadata": {
        "id": "3519921d-5890-445b-9a33-934ed8ee378c"
      },
      "source": [
        "**Hint**\n",
        "\n",
        "Your first mission is to familiarize yourself with the **Books to Scrape** website. Navigate to [Books to Scrape](http://books.toscrape.com/) and explore the available books to understand their layout and structure. \n",
        "\n",
        "Next, think about how you can set parameters for your data extraction:\n",
        "\n",
        "- **Minimum Rating**: Focus on books with a rating of 4.0 and above.\n",
        "- **Maximum Price**: Filter for books priced up to £20.\n",
        "\n",
        "After reviewing the site, you can construct a plan for scraping relevant data. Pay attention to the details displayed for each book, including the title, price, rating, and availability. This will help you identify the correct HTML elements to target with your scraping script.\n",
        "\n",
        "Make sure to build your scraping URL and logic based on the patterns you observe in the HTML structure of the book listings!"
      ]
    },
    {
      "cell_type": "markdown",
      "id": "25a83a0d-a742-49f6-985e-e27887cbf922",
      "metadata": {
        "id": "25a83a0d-a742-49f6-985e-e27887cbf922"
      },
      "source": [
        "\n",
        "---\n",
        "\n",
        "**Best of luck! Immerse yourself in the world of books, and may the data be with you!**"
      ]
    },
    {
      "cell_type": "markdown",
      "id": "7b75cf0d-9afa-4eec-a9e2-befeac68b2a0",
      "metadata": {
        "id": "7b75cf0d-9afa-4eec-a9e2-befeac68b2a0"
      },
      "source": [
        "**Important Note**:\n",
        "\n",
        "In the fast-changing online world, websites often update and change their structures. When you try this lab, the **Books to Scrape** website might differ from what you expect.\n",
        "\n",
        "If you encounter issues due to these changes, like new rules or obstacles preventing data extraction, don’t worry! Get creative.\n",
        "\n",
        "You can choose another website that interests you and is suitable for scraping data. Options like Wikipedia, The New York Times, or even library databases are great alternatives. The main goal remains the same: extract useful data and enhance your web scraping skills while exploring a source of information you enjoy. This is your opportunity to practice and adapt to different web environments!"
      ]
    },
    {
      "cell_type": "code",
      "execution_count": 23,
      "id": "40359eee-9cd7-4884-bfa4-83344c222305",
      "metadata": {
        "id": "40359eee-9cd7-4884-bfa4-83344c222305"
      },
      "outputs": [
        {
          "name": "stdout",
          "output_type": "stream",
          "text": [
            "Defaulting to user installation because normal site-packages is not writeable\n"
          ]
        },
        {
          "name": "stderr",
          "output_type": "stream",
          "text": [
            "ERROR: Invalid requirement: '#pip': Expected package name at the start of dependency specifier\n",
            "    #pip\n",
            "    ^\n"
          ]
        }
      ],
      "source": [
        "!pip install requests beautifulsoup4 #pip install requests beautifulsoup4\n",
        "import requests\n",
        "from bs4 import BeautifulSoup\n",
        "import pandas as pd\n",
        "from urllib.parse import urljoin\n",
        "\n",
        "BASE_URL = \"http://books.toscrape.com/\" # Base URL for the book store"
      ]
    },
    {
      "cell_type": "code",
      "execution_count": 27,
      "id": "caa406ae",
      "metadata": {},
      "outputs": [
        {
          "name": "stdout",
          "output_type": "stream",
          "text": [
            "    UPC                                              Title  Price (£)  Rating  \\\n",
            "0  None                                        Set Me Free      17.46       5   \n",
            "1  None  The Four Agreements: A Practical Guide to Pers...      17.66       5   \n",
            "2  None                                     Sophie's World      15.94       5   \n",
            "3  None            Untitled Collection: Sabbath Poems 2014      14.27       4   \n",
            "4  None                                    This One Summer      19.49       4   \n",
            "\n",
            "  Genre Availability Description  \n",
            "0  None     In stock        None  \n",
            "1  None     In stock        None  \n",
            "2  None     In stock        None  \n",
            "3  None     In stock        None  \n",
            "4  None     In stock        None  \n",
            "(75, 7)\n"
          ]
        }
      ],
      "source": [
        "# Send a GET request to the base URL\n",
        "res = requests.get(BASE_URL)\n",
        "\n",
        "# Mapping of text to numerical rating\n",
        "RATING_MAP = {\n",
        "    'One': 1,\n",
        "    'Two': 2,\n",
        "    'Three': 3,\n",
        "    'Four': 4,\n",
        "    'Five': 5\n",
        "}\n",
        "\n",
        "def get_genre(book_url):\n",
        "    \"\"\"Get genre from the breadcrumb on the book detail page.\"\"\"\n",
        "    res = requests.get(book_url)\n",
        "    soup = BeautifulSoup(res.text, 'html.parser')\n",
        "    breadcrumb = soup.select('ul.breadcrumb li a')\n",
        "    if len(breadcrumb) >= 3:\n",
        "        return breadcrumb[2].text.strip()\n",
        "    return None\n",
        "\n",
        "def get_description(soup):\n",
        "    \"\"\"Extract the product description if available.\"\"\"\n",
        "    desc = soup.select_one('#product_description')\n",
        "    if desc:\n",
        "        desc_tag = desc.find_next_sibling('p')\n",
        "        return desc_tag.text.strip() if desc_tag else None\n",
        "    return None\n",
        "\n",
        "def scrape_books(min_rating=4, max_price=20.0):\n",
        "    books_data = []\n",
        "    next_page = \"catalogue/page-1.html\"\n",
        "    \n",
        "    while next_page:\n",
        "        res = requests.get(urljoin(BASE_URL, next_page))\n",
        "        soup = BeautifulSoup(res.text, 'html.parser')\n",
        "        books = soup.select('article.product_pod')\n",
        "\n",
        "        for book in books:\n",
        "            # Get title and relative detail URL\n",
        "            title = book.h3.a['title']\n",
        "            detail_url = urljoin(BASE_URL, book.h3.a['href'].replace('../../../', 'catalogue/'))\n",
        "            book_page = requests.get(detail_url)\n",
        "            book_soup = BeautifulSoup(book_page.text, 'html.parser')\n",
        "\n",
        "            # Get UPC from the product table\n",
        "            upc_tag = book_soup.select_one('table.table.table-striped tr:nth-of-type(1) td')\n",
        "            upc = upc_tag.text.strip() if upc_tag else None\n",
        "\n",
        "            # Price\n",
        "            import re\n",
        "            price_str = book.select_one('p.price_color').text.strip()\n",
        "            price_num = re.search(r'[\\d\\.]+', price_str.replace('£', ''))\n",
        "            price = float(price_num.group()) if price_num else 0.0\n",
        "\n",
        "            # Rating\n",
        "            rating_class = book.select_one('p.star-rating')['class'][1]\n",
        "            rating = RATING_MAP.get(rating_class, 0)\n",
        "\n",
        "            # Filter\n",
        "            if rating < min_rating or price > max_price:\n",
        "                continue\n",
        "\n",
        "            # Availability\n",
        "            availability = book.select_one('p.instock.availability').text.strip()\n",
        "\n",
        "            # Genre\n",
        "            genre = get_genre(detail_url)\n",
        "\n",
        "            # Description\n",
        "            description = get_description(book_soup)\n",
        "\n",
        "            books_data.append({\n",
        "                'UPC': upc,\n",
        "                'Title': title,\n",
        "                'Price (£)': price,\n",
        "                'Rating': rating,\n",
        "                'Genre': genre,\n",
        "                'Availability': availability,\n",
        "                'Description': description\n",
        "            })\n",
        "\n",
        "        # Pagination\n",
        "        next_btn = soup.select_one('li.next a')\n",
        "        next_page = urljoin(next_page, next_btn['href']) if next_btn else None\n",
        "\n",
        "    return pd.DataFrame(books_data)\n",
        "\n",
        "if __name__ == \"__main__\":\n",
        "    df = scrape_books(min_rating=4, max_price=20.0)\n",
        "    print(df.head())         # Print the first few rows to verify\n",
        "    print(df.shape)          # Show how many rows were collected\n",
        "\n"
      ]
    }
  ],
  "metadata": {
    "colab": {
      "provenance": []
    },
    "kernelspec": {
      "display_name": "Python 3",
      "language": "python",
      "name": "python3"
    },
    "language_info": {
      "codemirror_mode": {
        "name": "ipython",
        "version": 3
      },
      "file_extension": ".py",
      "mimetype": "text/x-python",
      "name": "python",
      "nbconvert_exporter": "python",
      "pygments_lexer": "ipython3",
      "version": "3.12.10"
    }
  },
  "nbformat": 4,
  "nbformat_minor": 5
}
